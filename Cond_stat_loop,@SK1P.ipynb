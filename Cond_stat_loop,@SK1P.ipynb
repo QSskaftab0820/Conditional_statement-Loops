{
 "cells": [
  {
   "cell_type": "markdown",
   "id": "2aebe13d-d7fe-4a6f-92c9-f4d9b3525e85",
   "metadata": {},
   "source": [
    "# if\n",
    "# if else\n",
    "# if elif else\n",
    "# nested if"
   ]
  },
  {
   "cell_type": "code",
   "execution_count": 2,
   "id": "33ce380c-4845-43c2-a52a-79a142dd897c",
   "metadata": {},
   "outputs": [
    {
     "name": "stdout",
     "output_type": "stream",
     "text": [
      "Data Science\n"
     ]
    }
   ],
   "source": [
    "if True: #indentiation is always 4 spaces\n",
    "    print('Data Science')"
   ]
  },
  {
   "cell_type": "code",
   "execution_count": 3,
   "id": "1cbb4f17-0bf3-46af-b83c-a4c142cf4928",
   "metadata": {},
   "outputs": [],
   "source": [
    "if False:\n",
    "    print(\"SK\")\n",
    "\n",
    "#Why It Doesn’t Work\n",
    "#The condition inside if is False.\n",
    "\n",
    "#Since if only runs when the condition is True, the print(\"SK\") statement never executes.\n",
    "\n",
    "#The program does nothing because False means \"do not run this block of code.\"\n",
    "\n"
   ]
  },
  {
   "cell_type": "code",
   "execution_count": 4,
   "id": "544be17a-1710-43e4-9e8f-2efa598bbb80",
   "metadata": {},
   "outputs": [
    {
     "name": "stdout",
     "output_type": "stream",
     "text": [
      "AFTAB\n"
     ]
    }
   ],
   "source": [
    "if False:\n",
    "    print(\"SK\")\n",
    "print(\"AFTAB\")\n"
   ]
  },
  {
   "cell_type": "code",
   "execution_count": 5,
   "id": "157255c8-6aed-451d-8143-7ea7a19539dc",
   "metadata": {},
   "outputs": [
    {
     "name": "stdout",
     "output_type": "stream",
     "text": [
      "SK\n",
      "AFTAB\n"
     ]
    }
   ],
   "source": [
    "if True:\n",
    "    print(\"SK\")\n",
    "print(\"AFTAB\")"
   ]
  },
  {
   "cell_type": "code",
   "execution_count": 6,
   "id": "2b387f9b-2d11-44ef-954e-f6a593f9b089",
   "metadata": {},
   "outputs": [
    {
     "name": "stdout",
     "output_type": "stream",
     "text": [
      "AFTAB\n"
     ]
    }
   ],
   "source": [
    "if False:\n",
    "    print(\"SK\")\n",
    "else:\n",
    "    print(\"AFTAB\")"
   ]
  },
  {
   "cell_type": "markdown",
   "id": "3999bf83-f373-43ad-9809-944edd74ea3a",
   "metadata": {},
   "source": [
    "Lets do one program as if divide by 2 then reminder is 0 then it is even number if reminder is not 0 then it is odd number"
   ]
  },
  {
   "cell_type": "code",
   "execution_count": 8,
   "id": "4aa68819-6f0d-4a76-aedf-50104aa8d6b0",
   "metadata": {},
   "outputs": [
    {
     "name": "stdout",
     "output_type": "stream",
     "text": [
      "EVEN NUMBER\n"
     ]
    }
   ],
   "source": [
    "#To print only even number\n",
    "\n",
    "x = 4\n",
    "r = x% 2\n",
    "\n",
    "if r==0:\n",
    "    print(\"EVEN NUMBER\")"
   ]
  },
  {
   "cell_type": "code",
   "execution_count": 9,
   "id": "9b5200c8-7df5-41cd-947b-880c8750d7ec",
   "metadata": {},
   "outputs": [],
   "source": [
    "x = 5\n",
    "r = x % 2 \n",
    "\n",
    "if r == 0:\n",
    "    print('Even number')"
   ]
  },
  {
   "cell_type": "code",
   "execution_count": 10,
   "id": "7eee06af-1b6a-4e66-996e-843fb8a59942",
   "metadata": {},
   "outputs": [
    {
     "name": "stdout",
     "output_type": "stream",
     "text": [
      "odd number\n"
     ]
    }
   ],
   "source": [
    "x = 5\n",
    "r = x % 2 \n",
    "\n",
    "if r == 0:\n",
    "    print('Even number')\n",
    "print('odd number')"
   ]
  },
  {
   "cell_type": "code",
   "execution_count": 11,
   "id": "44cb8e9b-bf02-4c83-9af2-ee1a4234a747",
   "metadata": {},
   "outputs": [
    {
     "name": "stdout",
     "output_type": "stream",
     "text": [
      "Even number\n",
      "odd number\n"
     ]
    }
   ],
   "source": [
    "x = 6\n",
    "r = x % 2 \n",
    "\n",
    "if r == 0:\n",
    "    print('Even number')\n",
    "print('odd number')"
   ]
  },
  {
   "cell_type": "code",
   "execution_count": 12,
   "id": "c2993b72-bbe4-4ff5-8043-4a41dcd7a2e6",
   "metadata": {},
   "outputs": [
    {
     "name": "stdout",
     "output_type": "stream",
     "text": [
      "Even Num\n"
     ]
    }
   ],
   "source": [
    "x = 10\n",
    "r = x%2\n",
    "\n",
    "if r == 0:\n",
    "    print('Even Num')\n",
    "if r == 1:\n",
    "    print('Odd Num')"
   ]
  },
  {
   "cell_type": "code",
   "execution_count": 13,
   "id": "5a53c0d3-19b5-46a1-a485-00d1984c2d3a",
   "metadata": {},
   "outputs": [
    {
     "name": "stdout",
     "output_type": "stream",
     "text": [
      "Odd Num\n"
     ]
    }
   ],
   "source": [
    "x = 11\n",
    "r = x%2\n",
    "\n",
    "if r == 0:\n",
    "    print('Even Num')\n",
    "if r == 1:\n",
    "    print('Odd Num')"
   ]
  },
  {
   "cell_type": "code",
   "execution_count": 14,
   "id": "953a0d49-30f3-4b48-8ddf-be3be4c1973d",
   "metadata": {},
   "outputs": [
    {
     "name": "stdout",
     "output_type": "stream",
     "text": [
      "Odd Num\n"
     ]
    }
   ],
   "source": [
    "x = 17 \n",
    "r = x % 2\n",
    "\n",
    "if r == 0:\n",
    "    print('Even Num')\n",
    "if r!=0:\n",
    "    print('Odd Num')"
   ]
  },
  {
   "cell_type": "markdown",
   "id": "0fb40837-780b-4b69-a347-078c2aa9e56a",
   "metadata": {},
   "source": [
    "if we observe the code its too many line, cuz many of the coder always they wanted to reduce the code lenght which is very good practise. instead of 2 if we can use if-- else"
   ]
  },
  {
   "cell_type": "code",
   "execution_count": 16,
   "id": "8758b29a-38a5-4afa-ac1b-b1c062b308d1",
   "metadata": {},
   "outputs": [
    {
     "name": "stdout",
     "output_type": "stream",
     "text": [
      "Odd Num\n"
     ]
    }
   ],
   "source": [
    "x = 5\n",
    "r = x % 2\n",
    "\n",
    "if r == 0:\n",
    "    print('Even Num')\n",
    "\n",
    "else:\n",
    "    print('Odd Num')"
   ]
  },
  {
   "cell_type": "code",
   "execution_count": 17,
   "id": "243c456a-5dd3-4d5f-aa03-b3e3371a97f3",
   "metadata": {},
   "outputs": [
    {
     "name": "stdout",
     "output_type": "stream",
     "text": [
      "Even Num\n"
     ]
    }
   ],
   "source": [
    "x = 6\n",
    "r = x % 2\n",
    "\n",
    "if r == 0:\n",
    "    print('Even Num')\n",
    "\n",
    "else:\n",
    "    print('Odd Num')"
   ]
  },
  {
   "cell_type": "markdown",
   "id": "c87971b8-dac7-49f1-b1a0-e4371e9d6d6e",
   "metadata": {},
   "source": [
    "NESTED IF (if we have 2 condition so we need to implment with nested if )"
   ]
  },
  {
   "cell_type": "code",
   "execution_count": 19,
   "id": "5ccf87ad-33f0-42ad-b22f-ca542ccc191e",
   "metadata": {},
   "outputs": [
    {
     "name": "stdout",
     "output_type": "stream",
     "text": [
      "Odd Num\n"
     ]
    }
   ],
   "source": [
    "x = 3\n",
    "r = x % 2\n",
    "\n",
    "if r == 0:\n",
    "    print('Even Num')\n",
    "    if x>5:\n",
    "        print('Greater Num')\n",
    "else:\n",
    "    print('Odd Num')"
   ]
  },
  {
   "cell_type": "code",
   "execution_count": 20,
   "id": "d996c0a9-8115-4d09-a01e-fc71144e8c8b",
   "metadata": {},
   "outputs": [
    {
     "name": "stdout",
     "output_type": "stream",
     "text": [
      "Odd Num\n"
     ]
    }
   ],
   "source": [
    "x = 7\n",
    "r = x % 2\n",
    "\n",
    "if r == 0:# if this ststement false then inside it's all the statemnt will be skip.\n",
    "    print('Even Num')\n",
    "    if x>5:\n",
    "        print('Greater Num')\n",
    "else:\n",
    "    print('Odd Num')"
   ]
  },
  {
   "cell_type": "code",
   "execution_count": 21,
   "id": "7cf48ee9-abeb-47e7-9098-5e66c1953564",
   "metadata": {},
   "outputs": [
    {
     "name": "stdout",
     "output_type": "stream",
     "text": [
      "Even Num\n",
      "Greater Num\n"
     ]
    }
   ],
   "source": [
    "x = 10\n",
    "r = x % 2\n",
    "\n",
    "if r == 0:\n",
    "    print('Even Num')\n",
    "    if x>5:\n",
    "        print('Greater Num')\n",
    "else:\n",
    "    print('Odd Num')"
   ]
  },
  {
   "cell_type": "code",
   "execution_count": 22,
   "id": "057079e7-c6e6-469a-a39d-0a4c9406429a",
   "metadata": {},
   "outputs": [
    {
     "name": "stdout",
     "output_type": "stream",
     "text": [
      "Even Num\n",
      "Not Greater\n"
     ]
    }
   ],
   "source": [
    "x = 4\n",
    "r = x % 2\n",
    "\n",
    "if r == 0:\n",
    "    print('Even Num')\n",
    "    if x > 5:\n",
    "        print('Greater Num')\n",
    "    else: \n",
    "        print('Not Greater')\n",
    "else:\n",
    "    print('Odd Num')"
   ]
  },
  {
   "cell_type": "code",
   "execution_count": 23,
   "id": "f1ffd893-0be7-4b97-934d-72ce720baf01",
   "metadata": {},
   "outputs": [
    {
     "name": "stdout",
     "output_type": "stream",
     "text": [
      "Even number\n",
      "greater number\n"
     ]
    }
   ],
   "source": [
    "x = 6\n",
    "r = x % 2\n",
    "\n",
    "if r == 0:\n",
    "    print('Even number')\n",
    "    if x>5 :\n",
    "        print('greater number')\n",
    "    else:\n",
    "        print('not greater ')\n",
    "        \n",
    "else:\n",
    "    print('odd number')"
   ]
  },
  {
   "cell_type": "markdown",
   "id": "d6f420c1-4936-4660-823d-331328efa82c",
   "metadata": {},
   "source": [
    "We do have concept of ( IF - ELIF- ELSE) e.g i want to print ( 1--> one , 2 --> two, 3--> three, 4--> four, 5- five)"
   ]
  },
  {
   "cell_type": "code",
   "execution_count": 25,
   "id": "0820011e-6325-4f38-938a-fce98c7ea4b2",
   "metadata": {},
   "outputs": [
    {
     "name": "stdout",
     "output_type": "stream",
     "text": [
      "Two\n"
     ]
    }
   ],
   "source": [
    "x = 2\n",
    "\n",
    "if x == 1:\n",
    "    print('one')\n",
    "if x == 2:\n",
    "    print('Two')\n",
    "if x == 3:\n",
    "    print('Three')\n",
    "if x == 4:\n",
    "    print('four')"
   ]
  },
  {
   "cell_type": "code",
   "execution_count": 26,
   "id": "6304baf8-4e60-4a4f-9fd3-8ca2d4567932",
   "metadata": {},
   "outputs": [
    {
     "name": "stdout",
     "output_type": "stream",
     "text": [
      "four\n"
     ]
    }
   ],
   "source": [
    "# elif it wont check till the block once you find the output it wont go to next line\n",
    "# you can try with multiple parameter 1, 2 & 3 value in x \n",
    "\n",
    "x = 4\n",
    "\n",
    "if(x == 1):\n",
    "    print('one')\n",
    "elif(x == 2):\n",
    "    print('Two')\n",
    "elif(x == 3):\n",
    "    print('Three')\n",
    "elif(x == 4):\n",
    "    print('four')"
   ]
  },
  {
   "cell_type": "code",
   "execution_count": 27,
   "id": "7dbdb93e-de80-4185-8f8e-88d3a9f18b6f",
   "metadata": {},
   "outputs": [
    {
     "name": "stdout",
     "output_type": "stream",
     "text": [
      "Two\n"
     ]
    }
   ],
   "source": [
    "x = 2\n",
    "\n",
    "if(x == 1):\n",
    "    print('one')\n",
    "elif(x == 2):\n",
    "    print('Two')\n",
    "elif(x == 3):\n",
    "    print('Three')\n",
    "elif(x == 4):\n",
    "    print('four')"
   ]
  },
  {
   "cell_type": "code",
   "execution_count": 28,
   "id": "fa836910-9ff9-4680-aef3-106029a9f863",
   "metadata": {},
   "outputs": [],
   "source": [
    "x = 7\n",
    "\n",
    "if(x == 1):\n",
    "    print('one')\n",
    "elif(x == 2):\n",
    "    print('Two')\n",
    "elif(x == 3):\n",
    "    print('Three')\n",
    "elif(x == 4):\n",
    "    print('four')"
   ]
  },
  {
   "cell_type": "code",
   "execution_count": 29,
   "id": "2c900244-3039-473e-ae71-1c3abd4a9231",
   "metadata": {},
   "outputs": [
    {
     "name": "stdout",
     "output_type": "stream",
     "text": [
      "wrong output\n"
     ]
    }
   ],
   "source": [
    "x = 7\n",
    "\n",
    "if(x == 1):\n",
    "    print('one')\n",
    "    \n",
    "    \n",
    "elif(x == 2):\n",
    "    print('Two')\n",
    "elif(x == 3):\n",
    "    print('Three')\n",
    "elif(x == 4):\n",
    "    print('four')\n",
    "    \n",
    "else:\n",
    "    print('wrong output')"
   ]
  },
  {
   "cell_type": "code",
   "execution_count": 30,
   "id": "b95ea1e8-3eab-468e-81c9-3d81c4bf2114",
   "metadata": {},
   "outputs": [
    {
     "name": "stdout",
     "output_type": "stream",
     "text": [
      "four\n"
     ]
    }
   ],
   "source": [
    "x = 4\n",
    "\n",
    "if(x == 1):\n",
    "    print('one')\n",
    "elif(x == 2):\n",
    "    print('Two')\n",
    "elif(x == 3):\n",
    "    print('Three')\n",
    "elif(x == 4):\n",
    "    print('four')\n",
    "else:\n",
    "    print('wrong output')\n"
   ]
  },
  {
   "cell_type": "code",
   "execution_count": 31,
   "id": "7013ecde-6f61-41d7-bbd6-ba2d57bf8ec9",
   "metadata": {},
   "outputs": [
    {
     "name": "stdout",
     "output_type": "stream",
     "text": [
      "wrong output\n"
     ]
    }
   ],
   "source": [
    "x = 10\n",
    "\n",
    "if(x == 1):\n",
    "    print('one')\n",
    "elif(x == 2):\n",
    "    print('Two')\n",
    "elif(x == 3):\n",
    "    print('Three')\n",
    "elif(x == 4):\n",
    "    print('four')\n",
    "   \n",
    "else:\n",
    "    print('wrong output')"
   ]
  },
  {
   "cell_type": "code",
   "execution_count": 32,
   "id": "3b0ce2c1-83eb-4a03-a264-b7f17fe974e1",
   "metadata": {},
   "outputs": [
    {
     "name": "stdout",
     "output_type": "stream",
     "text": [
      "a is greater than b\n"
     ]
    }
   ],
   "source": [
    "#short hand if \n",
    "a = 30\n",
    "b = 20\n",
    "if a > b: print(\"a is greater than b\")"
   ]
  },
  {
   "cell_type": "markdown",
   "id": "4df6f75d-294c-4209-9da7-e3a89dc3f656",
   "metadata": {},
   "source": [
    "LOOPS -- in programing world some time we keep on repeating , may be you want to repeat 5 statement so one way is copy & paste multiple times or other way is\n",
    "\n",
    "if you want to print the datascience 1000 times then what you will you cant copy for 1000 times , if you want to print 1000 times then you cant do manualy . that is the reason why we need to apply loop -> 2 type of loops -- While loop & For loop\n",
    "\n"
   ]
  },
  {
   "cell_type": "code",
   "execution_count": 34,
   "id": "d7167de8-42a7-42e6-9e3f-2c9ef8521470",
   "metadata": {},
   "outputs": [
    {
     "name": "stdout",
     "output_type": "stream",
     "text": [
      "data science\n",
      "data science\n",
      "data science\n",
      "data science\n",
      "data science\n"
     ]
    }
   ],
   "source": [
    "print('data science')\n",
    "print('data science')\n",
    "print('data science')\n",
    "print('data science')    \n",
    "print('data science')"
   ]
  },
  {
   "cell_type": "code",
   "execution_count": 35,
   "id": "1df5ef4c-0557-4da1-a02b-2d9182b92d39",
   "metadata": {},
   "outputs": [
    {
     "name": "stdout",
     "output_type": "stream",
     "text": [
      "data science\n",
      "data science\n",
      "data science\n",
      "data science\n",
      "data science\n"
     ]
    }
   ],
   "source": [
    "i = 1          # initializing\n",
    "\n",
    "while i<=5:    # condition\n",
    "    print('data science')\n",
    "    i = i + 1  # increment"
   ]
  },
  {
   "cell_type": "code",
   "execution_count": 36,
   "id": "5f88a91d-d120-41ca-8e89-5b71c2340ae2",
   "metadata": {},
   "outputs": [
    {
     "name": "stdout",
     "output_type": "stream",
     "text": [
      "SK\n",
      "SK\n",
      "SK\n",
      "SK\n",
      "SK\n"
     ]
    }
   ],
   "source": [
    "i = 5 #initializing\n",
    "\n",
    "while i>=1: #condition\n",
    "    print(\"SK\")\n",
    "    i = i - 1  #decrement "
   ]
  },
  {
   "cell_type": "code",
   "execution_count": 37,
   "id": "a0177b65-d46e-4dbc-82b1-83c7e664e646",
   "metadata": {},
   "outputs": [
    {
     "name": "stdout",
     "output_type": "stream",
     "text": [
      "SK: 1\n",
      "SK: 2\n",
      "SK: 3\n",
      "SK: 4\n",
      "SK: 5\n"
     ]
    }
   ],
   "source": [
    "i = 1\n",
    "\n",
    "while i <= 5:\n",
    "    print(\"SK:\",i)\n",
    "    i = i+1"
   ]
  },
  {
   "cell_type": "code",
   "execution_count": 38,
   "id": "b941c498-f0cc-4245-904e-dd35da6a2170",
   "metadata": {},
   "outputs": [
    {
     "name": "stdout",
     "output_type": "stream",
     "text": [
      "SK 5\n",
      "SK 4\n",
      "SK 3\n",
      "SK 2\n",
      "SK 1\n"
     ]
    }
   ],
   "source": [
    "i = 5\n",
    "while i>=1:\n",
    "    print(\"SK\",i)\n",
    "    i = i-1"
   ]
  },
  {
   "cell_type": "markdown",
   "id": "b8a84840-36b1-45df-bd74-2f4e2d28c47f",
   "metadata": {},
   "source": [
    "can we use multiple while loop || nested while loop to understand nested while indepth understand you can use pycharm debug with f8 option"
   ]
  },
  {
   "cell_type": "code",
   "execution_count": 40,
   "id": "861e2346-6a05-4c12-8ed3-114b037c9bec",
   "metadata": {},
   "outputs": [
    {
     "name": "stdout",
     "output_type": "stream",
     "text": [
      "data science\n",
      "technology\n",
      "technology\n",
      "technology\n",
      "technology\n",
      "\n",
      "data science\n",
      "technology\n",
      "technology\n",
      "technology\n",
      "technology\n",
      "\n",
      "data science\n",
      "technology\n",
      "technology\n",
      "technology\n",
      "technology\n",
      "\n",
      "data science\n",
      "technology\n",
      "technology\n",
      "technology\n",
      "technology\n",
      "\n",
      "data science\n",
      "technology\n",
      "technology\n",
      "technology\n",
      "technology\n",
      "\n"
     ]
    }
   ],
   "source": [
    "i = 1\n",
    "\n",
    "while i<=5:\n",
    "    print('data science') # when we mention end then new line will not create\n",
    "    j = 1\n",
    "    while j<=4:\n",
    "        print('technology')\n",
    "        j = j + 1\n",
    "        \n",
    "    i = i + 1\n",
    "    print()\n",
    "    \n",
    "    # the output which we got is very lengty but how to make them one line lets refer to below code"
   ]
  },
  {
   "cell_type": "code",
   "execution_count": 41,
   "id": "69bb5620-8939-44e6-a172-3994b4f663aa",
   "metadata": {},
   "outputs": [
    {
     "name": "stdout",
     "output_type": "stream",
     "text": [
      "SKAFTAB\n",
      "AFTAB\n",
      "AFTAB\n",
      "AFTAB\n",
      "\n",
      "SKAFTAB\n",
      "AFTAB\n",
      "AFTAB\n",
      "AFTAB\n",
      "\n",
      "SKAFTAB\n",
      "AFTAB\n",
      "AFTAB\n",
      "AFTAB\n",
      "\n",
      "SKAFTAB\n",
      "AFTAB\n",
      "AFTAB\n",
      "AFTAB\n",
      "\n",
      "SKAFTAB\n",
      "AFTAB\n",
      "AFTAB\n",
      "AFTAB\n",
      "\n"
     ]
    }
   ],
   "source": [
    "i = 1\n",
    "\n",
    "while i <=5:\n",
    "    print('SK', end = \"\")# when we mention end then new line will not create\n",
    "    j = 1\n",
    "    while j<=4:\n",
    "        print(\"AFTAB\")\n",
    "        j=j+1\n",
    "\n",
    "    i = i+1\n",
    "    print()"
   ]
  },
  {
   "cell_type": "code",
   "execution_count": 42,
   "id": "bbd4be26-9903-4081-9c5b-243fa51164d7",
   "metadata": {},
   "outputs": [
    {
     "name": "stdout",
     "output_type": "stream",
     "text": [
      "SKAFTABAFTABAFTABAFTAB\n",
      "SKAFTABAFTABAFTABAFTAB\n",
      "SKAFTABAFTABAFTABAFTAB\n",
      "SKAFTABAFTABAFTABAFTAB\n",
      "SKAFTABAFTABAFTABAFTAB\n"
     ]
    }
   ],
   "source": [
    "i = 1\n",
    "\n",
    "while i <=5:\n",
    "    print('SK', end = \"\")# when we mention end then new line will not create\n",
    "    j = 1\n",
    "    while j<=4:\n",
    "        print(\"AFTAB\", end = \"\")\n",
    "        j=j+1\n",
    "\n",
    "    i = i+1\n",
    "    print()"
   ]
  },
  {
   "cell_type": "code",
   "execution_count": 43,
   "id": "69cb36fa-f41f-48f5-a23b-e64bd8f7ccf6",
   "metadata": {},
   "outputs": [
    {
     "name": "stdout",
     "output_type": "stream",
     "text": [
      " SK AFTAB AFTAB AFTAB AFTAB\n",
      " SK AFTAB AFTAB AFTAB AFTAB\n",
      " SK AFTAB AFTAB AFTAB AFTAB\n",
      " SK AFTAB AFTAB AFTAB AFTAB\n",
      " SK AFTAB AFTAB AFTAB AFTAB\n"
     ]
    }
   ],
   "source": [
    "i = 1\n",
    "\n",
    "while i <=5:\n",
    "    print(' SK', end = \"\")# when we mention end then new line will not create\n",
    "    j = 1\n",
    "    while j<=4:\n",
    "        print(\" AFTAB\", end = \"\")\n",
    "        j=j+1\n",
    "\n",
    "    i = i+1\n",
    "    print()"
   ]
  },
  {
   "cell_type": "code",
   "execution_count": 44,
   "id": "412980ee-6e07-48a3-a56d-18c235992a16",
   "metadata": {},
   "outputs": [
    {
     "name": "stdout",
     "output_type": "stream",
     "text": [
      "0 1 2 \n",
      "0 2 4 \n"
     ]
    }
   ],
   "source": [
    "# lets use while loop usig some numbers\n",
    "\n",
    "i = 1\n",
    "\n",
    "while i <= 2 :\n",
    "    j = 0\n",
    "    while  j <= 2 :\n",
    "        print(i*j, end=\" \")\n",
    "        j += 1\n",
    "    print()\n",
    "    i += 1"
   ]
  },
  {
   "cell_type": "code",
   "execution_count": 45,
   "id": "cf611ca7-47a1-4947-9a00-2e893aa5f716",
   "metadata": {},
   "outputs": [
    {
     "name": "stdout",
     "output_type": "stream",
     "text": [
      "0 1 2 3 \n",
      "0 2 4 6 \n",
      "0 3 6 9 \n",
      "0 4 8 12 \n"
     ]
    }
   ],
   "source": [
    "# lets use while loop usig some numbers\n",
    "i = 1\n",
    "while i <= 4 :\n",
    "    j = 0\n",
    "    while  j <= 3 :\n",
    "        print(i*j, end=\" \")\n",
    "        j += 1\n",
    "    print()\n",
    "    i += 1"
   ]
  },
  {
   "cell_type": "markdown",
   "id": "0b9006cd-b32f-4682-b891-44113bafbb9d",
   "metadata": {},
   "source": [
    "FOR LOOP  -\n",
    "normally while loop it work with iteration or certaion some condition but for loop it will work with sequence (list, string,int)"
   ]
  },
  {
   "cell_type": "code",
   "execution_count": 47,
   "id": "a0b831ca-0b51-434a-a8fa-51f254e8a0fa",
   "metadata": {},
   "outputs": [
    {
     "name": "stdout",
     "output_type": "stream",
     "text": [
      "S\n",
      "K\n"
     ]
    }
   ],
   "source": [
    "name = \"SK\"\n",
    "\n",
    "for i in name:\n",
    "    print(i)"
   ]
  },
  {
   "cell_type": "code",
   "execution_count": 48,
   "id": "1ba1adae-993f-4dc9-8ef7-08a440dfeb60",
   "metadata": {},
   "outputs": [
    {
     "name": "stdout",
     "output_type": "stream",
     "text": [
      "1\n",
      "3\n",
      "5\n",
      "sk\n"
     ]
    }
   ],
   "source": [
    "#i want print the value individualy\n",
    "name1 = [1,3,5,'sk']\n",
    "for i in name1:\n",
    "    print(i)"
   ]
  },
  {
   "cell_type": "code",
   "execution_count": 49,
   "id": "fbfd6c23-94d1-43ed-823c-9c649fdedc35",
   "metadata": {},
   "outputs": [
    {
     "name": "stdout",
     "output_type": "stream",
     "text": [
      "2\n",
      "3\n",
      "7\n",
      "8\n",
      "hi\n"
     ]
    }
   ],
   "source": [
    "for i in [2,3,7,8,'hi']:\n",
    "    print (i)"
   ]
  },
  {
   "cell_type": "code",
   "execution_count": 69,
   "id": "cc7ad7c5-9f83-417e-9600-61a9d826dd7f",
   "metadata": {},
   "outputs": [
    {
     "data": {
      "text/plain": [
       "range(0, 5)"
      ]
     },
     "execution_count": 69,
     "metadata": {},
     "output_type": "execute_result"
    }
   ],
   "source": [
    "range(5)"
   ]
  },
  {
   "cell_type": "code",
   "execution_count": 67,
   "id": "2f5984e6-fde3-48c8-94d3-b54d00d6005f",
   "metadata": {},
   "outputs": [
    {
     "name": "stdout",
     "output_type": "stream",
     "text": [
      "0\n",
      "1\n",
      "2\n",
      "3\n",
      "4\n"
     ]
    }
   ],
   "source": [
    "for i in range(5):\n",
    "    print(i)\n",
    "    "
   ]
  },
  {
   "cell_type": "code",
   "execution_count": 71,
   "id": "657705a3-317c-4e0f-a5b4-58eb5a4d44ac",
   "metadata": {},
   "outputs": [
    {
     "name": "stdout",
     "output_type": "stream",
     "text": [
      "2\n",
      "3\n",
      "4\n"
     ]
    }
   ],
   "source": [
    "for i in range(2,5):\n",
    "    print(i)"
   ]
  },
  {
   "cell_type": "code",
   "execution_count": 73,
   "id": "360f9043-af6e-4f71-913e-d7cc4fa46aa2",
   "metadata": {},
   "outputs": [
    {
     "name": "stdout",
     "output_type": "stream",
     "text": [
      "1\n",
      "4\n",
      "7\n",
      "10\n",
      "13\n",
      "16\n",
      "19\n"
     ]
    }
   ],
   "source": [
    "for i in range(1,20,3):\n",
    "    print(i)"
   ]
  },
  {
   "cell_type": "code",
   "execution_count": 77,
   "id": "a0d28863-813f-421d-a589-f0b5a78896bc",
   "metadata": {},
   "outputs": [
    {
     "name": "stdout",
     "output_type": "stream",
     "text": [
      "1\n",
      "2\n",
      "3\n",
      "4\n",
      "5\n",
      "6\n",
      "7\n",
      "8\n",
      "9\n",
      "10\n",
      "11\n",
      "12\n",
      "13\n",
      "14\n",
      "15\n",
      "16\n",
      "17\n",
      "18\n",
      "19\n",
      "20\n"
     ]
    }
   ],
   "source": [
    "for i in range (1,21):\n",
    "    print(i)"
   ]
  },
  {
   "cell_type": "code",
   "execution_count": 75,
   "id": "1ab26e60-8126-4e9b-a621-e58733b76135",
   "metadata": {},
   "outputs": [
    {
     "name": "stdout",
     "output_type": "stream",
     "text": [
      "5\n",
      "10\n",
      "15\n",
      "20\n",
      "25\n",
      "30\n",
      "35\n",
      "40\n",
      "45\n",
      "50\n"
     ]
    }
   ],
   "source": [
    "# print the value which is divisible by 5 \n",
    "\n",
    "for i in range(1,51):\n",
    "\n",
    "    if i%5==0:\n",
    "        print(i)"
   ]
  },
  {
   "cell_type": "code",
   "execution_count": 79,
   "id": "3be663ae-fc58-4cac-97e2-8c5b51d8f520",
   "metadata": {},
   "outputs": [
    {
     "name": "stdout",
     "output_type": "stream",
     "text": [
      "1\n",
      "2\n",
      "3\n",
      "4\n",
      "6\n",
      "7\n",
      "8\n",
      "9\n",
      "11\n",
      "12\n",
      "13\n",
      "14\n",
      "16\n",
      "17\n",
      "18\n",
      "19\n",
      "21\n",
      "22\n",
      "23\n",
      "24\n",
      "26\n",
      "27\n",
      "28\n",
      "29\n",
      "31\n",
      "32\n",
      "33\n",
      "34\n",
      "36\n",
      "37\n",
      "38\n",
      "39\n",
      "41\n",
      "42\n",
      "43\n",
      "44\n",
      "46\n",
      "47\n",
      "48\n",
      "49\n"
     ]
    }
   ],
   "source": [
    "# print the value which is not divisible by 5.\n",
    "\n",
    "for i in range(1,51):\n",
    "\n",
    "    if i%5!=0:\n",
    "        print(i)"
   ]
  },
  {
   "cell_type": "markdown",
   "id": "4918c76c-8fc8-4667-a741-59e286d26759",
   "metadata": {},
   "source": [
    "# LETS DISCUSS ABOUT 3 KEYWORDS -- BREAK || CONTINUE || PASS\n",
    "BREAK STATEMNT - if you apply break statment in a loop then it will end the loop\n",
    "# Pass = skips block of code( function, class etc)\n",
    "# Continue= skips 1 step/iteration during loop \n",
    "# Break= jumps out of the function/loop"
   ]
  },
  {
   "cell_type": "code",
   "execution_count": 104,
   "id": "f7ea5d25-0139-4b68-b60d-22a2e7a7768f",
   "metadata": {},
   "outputs": [
    {
     "name": "stdin",
     "output_type": "stream",
     "text": [
      "How many Chocklets you want? 10\n"
     ]
    },
    {
     "name": "stdout",
     "output_type": "stream",
     "text": [
      "Chocklet\n",
      "Chocklet\n",
      "Chocklet\n",
      "Chocklet\n",
      "Chocklet\n",
      "Chocklet\n",
      "Chocklet\n",
      "Chocklet\n",
      "Chocklet\n",
      "Chocklet\n"
     ]
    }
   ],
   "source": [
    "#write the code user ask chocklet from vendor machine ,write the basic code.\n",
    "\n",
    "x = int(input(\"How many Chocklets you want?\"))\n",
    "\n",
    "i = 1\n",
    "while i <=x:\n",
    "    print('Chocklet')\n",
    "    i+=1"
   ]
  },
  {
   "cell_type": "code",
   "execution_count": 100,
   "id": "da8d7b95-7b83-4834-9f53-bdd00c6b77e3",
   "metadata": {},
   "outputs": [
    {
     "name": "stdin",
     "output_type": "stream",
     "text": [
      "How many Chocklets you want? 20\n"
     ]
    },
    {
     "name": "stdout",
     "output_type": "stream",
     "text": [
      "Chocklet\n",
      "Chocklet\n",
      "Chocklet\n",
      "Chocklet\n",
      "Chocklet\n",
      "Chocklet\n",
      "Chocklet\n",
      "Chocklet\n",
      "Chocklet\n",
      "Chocklet\n",
      "Chocklet\n",
      "Chocklet\n",
      "Chocklet\n",
      "Chocklet\n",
      "Chocklet\n",
      "Chocklet\n"
     ]
    }
   ],
   "source": [
    "#write the code user ask chocklet from vendor machine ,write the basic code.\n",
    "\n",
    "x = int(input(\"How many Chocklets you want?\"))\n",
    "\n",
    "i = 5\n",
    "while i <=x:\n",
    "    print('Chocklet')\n",
    "    i+=1"
   ]
  },
  {
   "cell_type": "markdown",
   "id": "18184354-b5d1-4b3a-a118-9740bb698143",
   "metadata": {},
   "source": [
    "### .If the user says i need 10 choclet but vending machine dont have 10 choclate & machine has         only 5 choclate so what you do on those scenario\n",
    "### .We have 3 choice now (eiter stop the transaction by you or you can give only 5 choclate) &         may be vendor machine display the result as we are out of the stock\n",
    "### .Now lets try in the code"
   ]
  },
  {
   "cell_type": "code",
   "execution_count": 118,
   "id": "05df0e49-3a69-413e-8b7a-921044fe1190",
   "metadata": {},
   "outputs": [
    {
     "name": "stdin",
     "output_type": "stream",
     "text": [
      "How many choclets you want:? 6\n"
     ]
    },
    {
     "name": "stdout",
     "output_type": "stream",
     "text": [
      "choclet\n",
      "choclet\n",
      "choclet\n",
      "choclet\n",
      "choclet\n",
      "choclet\n"
     ]
    }
   ],
   "source": [
    "ava = 5 # the machine has only 5 choclet \n",
    "\n",
    "x = int(input('How many choclets you want:?'))\n",
    "\n",
    "i = 1\n",
    "while i<=x:\n",
    "    print('choclet')\n",
    "    i += 1   \n",
    "# if you check the user wants 10 choclets  but availabe choclet is 5 but we got output as 10 choclet\n",
    "# in this code we just declare but we dint apply any condition to it "
   ]
  },
  {
   "cell_type": "code",
   "execution_count": 120,
   "id": "479e1051-8ccb-47dc-b5f1-f2aa2cfb23fc",
   "metadata": {},
   "outputs": [
    {
     "name": "stdin",
     "output_type": "stream",
     "text": [
      "How many chocklet you want? 6\n"
     ]
    },
    {
     "name": "stdout",
     "output_type": "stream",
     "text": [
      "Chocklet\n",
      "Chocklet\n",
      "Chocklet\n",
      "Chocklet\n",
      "Chocklet\n",
      "Out of stock\n"
     ]
    }
   ],
   "source": [
    "available_chocklet = 5 # the machine has only 5 choclet \n",
    "\n",
    "x = int(input('How many chocklet you want?'))\n",
    "\n",
    "i = 1\n",
    "\n",
    "while i<=x:\n",
    "    print('Chocklet')\n",
    "    i+=1\n",
    "    if i>available_chocklet:\n",
    "        break\n",
    "print('Out of stock')"
   ]
  },
  {
   "cell_type": "code",
   "execution_count": 122,
   "id": "e3604f5c-7584-4f38-adfe-589b5659c499",
   "metadata": {},
   "outputs": [
    {
     "name": "stdin",
     "output_type": "stream",
     "text": [
      "How many chocklet you want? 6\n"
     ]
    },
    {
     "name": "stdout",
     "output_type": "stream",
     "text": [
      "Chocklet\n",
      "Chocklet\n",
      "Chocklet\n",
      "Chocklet\n",
      "Chocklet\n",
      "Out of stock\n"
     ]
    }
   ],
   "source": [
    "available_chocklet = 5 # the machine has only 5 choclet \n",
    "\n",
    "x = int(input('How many chocklet you want?'))\n",
    "\n",
    "i = 1\n",
    "\n",
    "while i<=x:\n",
    "    if i>available_chocklet:\n",
    "        break\n",
    "    print('Chocklet')\n",
    "    i+=1\n",
    "print('Out of stock')"
   ]
  },
  {
   "cell_type": "code",
   "execution_count": 124,
   "id": "858c9be0-b826-481f-8fc8-2da20205ea00",
   "metadata": {},
   "outputs": [
    {
     "name": "stdin",
     "output_type": "stream",
     "text": [
      "How many choclets you want:? 6\n"
     ]
    },
    {
     "name": "stdout",
     "output_type": "stream",
     "text": [
      "choclet\n",
      "choclet\n",
      "choclet\n",
      "choclet\n",
      "choclet\n",
      "out of stock\n",
      "bye for now\n"
     ]
    }
   ],
   "source": [
    "available_choclet = 5 # the machine has only 10 candis \n",
    "\n",
    "x = int(input('How many choclets you want:?'))\n",
    "\n",
    "i = 1\n",
    "while i<=x:\n",
    "    \n",
    "    if i>available_choclet: # we stop the execution but which code execution not entire code , i want to come out of while loop \n",
    "        print('out of stock')\n",
    "        break # break is statement | means jump out of the loop\n",
    "    print('choclet')\n",
    "    i += 1   \n",
    "    \n",
    "print('bye for now')"
   ]
  },
  {
   "cell_type": "code",
   "execution_count": 126,
   "id": "47f708b5-86b9-4b18-bac6-2939fba22efe",
   "metadata": {},
   "outputs": [
    {
     "name": "stdout",
     "output_type": "stream",
     "text": [
      "1\n",
      "2\n",
      "3\n",
      "4\n",
      "5\n",
      "6\n",
      "7\n",
      "8\n",
      "9\n",
      "10\n"
     ]
    }
   ],
   "source": [
    "for i in range(1,11):\n",
    "    print(i)"
   ]
  },
  {
   "cell_type": "markdown",
   "id": "a4375739-e6ba-43d3-89f1-e57003cc998d",
   "metadata": {},
   "source": [
    "i dont want 11 number i want only 5 number for the range of 1 to 10"
   ]
  },
  {
   "cell_type": "code",
   "execution_count": 129,
   "id": "27845593-86aa-48a6-b0d2-be3eaf55353b",
   "metadata": {},
   "outputs": [
    {
     "name": "stdout",
     "output_type": "stream",
     "text": [
      "1\n",
      "2\n",
      "3\n",
      "4\n",
      "5\n"
     ]
    }
   ],
   "source": [
    "for i in range(1,11):\n",
    "    if i == 6:\n",
    "        break\n",
    "    print(i)"
   ]
  },
  {
   "cell_type": "markdown",
   "id": "5629db1f-c526-46a0-bb0a-183cc0bf7da3",
   "metadata": {},
   "source": [
    "# in continue loop wont be terminate & exclue the assign number it give you entire output "
   ]
  },
  {
   "cell_type": "code",
   "execution_count": 132,
   "id": "b11137ac-9042-48e4-b39b-9c433f214d02",
   "metadata": {},
   "outputs": [
    {
     "name": "stdout",
     "output_type": "stream",
     "text": [
      "1\n",
      "2\n",
      "4\n",
      "5\n",
      "6\n",
      "7\n",
      "8\n",
      "9\n",
      "10\n"
     ]
    }
   ],
   "source": [
    "for i in range(1,11):\n",
    "    if i == 3:\n",
    "        continue \n",
    "    print(i)"
   ]
  },
  {
   "cell_type": "code",
   "execution_count": 138,
   "id": "e8a60231-959f-4cba-91aa-49e9d039df03",
   "metadata": {},
   "outputs": [
    {
     "name": "stdout",
     "output_type": "stream",
     "text": [
      "hello: 0\n",
      "hello: 1\n",
      "hello: 2\n",
      "hello: 3\n",
      "hello: 4\n",
      "hello: 5\n",
      "hello: 7\n",
      "hello: 8\n",
      "hello: 9\n",
      "hello: 10\n"
     ]
    }
   ],
   "source": [
    "for i in range(11):\n",
    "    if i == 6:\n",
    "        continue\n",
    "    print('hello:',i)\n",
    "    "
   ]
  },
  {
   "cell_type": "markdown",
   "id": "21bd303f-5a87-46d8-8470-7aaf8828be21",
   "metadata": {},
   "source": [
    "# PASS Statement - pass the code & it wont go ( code give you the error)"
   ]
  },
  {
   "cell_type": "code",
   "execution_count": 141,
   "id": "ae37366c-350f-41d3-8890-c910ada619a1",
   "metadata": {},
   "outputs": [
    {
     "ename": "SyntaxError",
     "evalue": "incomplete input (4056200066.py, line 1)",
     "output_type": "error",
     "traceback": [
      "\u001b[1;36m  Cell \u001b[1;32mIn[141], line 1\u001b[1;36m\u001b[0m\n\u001b[1;33m    for i in range(1,11):\u001b[0m\n\u001b[1;37m                         ^\u001b[0m\n\u001b[1;31mSyntaxError\u001b[0m\u001b[1;31m:\u001b[0m incomplete input\n"
     ]
    }
   ],
   "source": [
    "for i in range(1,11):\n"
   ]
  },
  {
   "cell_type": "code",
   "execution_count": 143,
   "id": "424f9648-7887-42a2-89fc-a99a9e912c6b",
   "metadata": {},
   "outputs": [],
   "source": [
    "for i in range(1,11):\n",
    "    pass\n"
   ]
  },
  {
   "cell_type": "markdown",
   "id": "41f88b18-a9b2-4532-895a-91ed0aa22bc6",
   "metadata": {},
   "source": [
    "## you need to print the number from 1 to 50 but dont print the number which is divisible by 3 or 5 "
   ]
  },
  {
   "cell_type": "code",
   "execution_count": 156,
   "id": "4a349fc6-d70e-4ac2-ab97-5e2fbd02103b",
   "metadata": {},
   "outputs": [
    {
     "name": "stdout",
     "output_type": "stream",
     "text": [
      "1\n",
      "2\n",
      "4\n",
      "5\n",
      "7\n",
      "8\n",
      "10\n",
      "11\n",
      "13\n",
      "14\n",
      "16\n",
      "17\n",
      "19\n",
      "20\n",
      "22\n",
      "23\n",
      "25\n",
      "26\n",
      "28\n",
      "29\n",
      "31\n",
      "32\n",
      "34\n",
      "35\n",
      "37\n",
      "38\n",
      "40\n",
      "41\n",
      "43\n",
      "44\n",
      "46\n",
      "47\n",
      "49\n",
      "50\n",
      "end\n"
     ]
    }
   ],
   "source": [
    "for i in range(1,51):\n",
    "    \n",
    "    if i%3 != 0:\n",
    "        print(i)\n",
    "print('end')    "
   ]
  },
  {
   "cell_type": "code",
   "execution_count": 7,
   "id": "1cd41ec0-3345-436d-a9f7-91bdadfb422f",
   "metadata": {},
   "outputs": [
    {
     "name": "stdout",
     "output_type": "stream",
     "text": [
      "1\n",
      "2\n",
      "4\n",
      "5\n",
      "7\n",
      "8\n",
      "10\n",
      "11\n",
      "13\n",
      "14\n",
      "15\n",
      "16\n",
      "17\n",
      "19\n",
      "end\n"
     ]
    }
   ],
   "source": [
    "for i in range(1,20):\n",
    "    \n",
    "    if i%3 != 0 or i%5 == 0:\n",
    "        print(i)\n",
    "print('end')    "
   ]
  },
  {
   "cell_type": "code",
   "execution_count": 9,
   "id": "cef572d4-41b2-4830-8e26-12225ab2667b",
   "metadata": {},
   "outputs": [
    {
     "name": "stdout",
     "output_type": "stream",
     "text": [
      "3\n",
      "6\n",
      "9\n",
      "12\n",
      "18\n"
     ]
    }
   ],
   "source": [
    "for i in range(1,21):\n",
    "    \n",
    "    if i%3 != 0 or i%5 == 0:\n",
    "        continue\n",
    "    print(i)\n",
    "#print('end')    \n",
    "# it will skip all the value which is divisible by 3 or 5"
   ]
  },
  {
   "cell_type": "code",
   "execution_count": 210,
   "id": "741a0a9a-ff38-4dc4-94f0-a66490319b20",
   "metadata": {},
   "outputs": [
    {
     "name": "stdout",
     "output_type": "stream",
     "text": [
      "15\n",
      "end\n"
     ]
    }
   ],
   "source": [
    "for i in range(1,20):\n",
    "    if i%3 == 0 and i%5 == 0:\n",
    "        print(i)\n",
    "print('end')    \n",
    "# when you apply and you wont get the value which is divisible by both 3 & 5 (15)"
   ]
  },
  {
   "cell_type": "code",
   "execution_count": 15,
   "id": "9005e03d-0848-436a-851d-ad737ab0d806",
   "metadata": {},
   "outputs": [
    {
     "name": "stdout",
     "output_type": "stream",
     "text": [
      "1\n",
      "2\n",
      "4\n",
      "5\n",
      "7\n",
      "8\n",
      "10\n",
      "11\n",
      "13\n",
      "14\n",
      "15\n",
      "16\n",
      "17\n",
      "19\n",
      "end\n"
     ]
    }
   ],
   "source": [
    "for i in range(1,20):\n",
    "    if i%3 == 0 and i%5 != 0:\n",
    "        continue\n",
    "    print(i)\n",
    "print('end')    \n",
    "# when you apply and you wont get the value which is divisible by both 3 & 5 (15)"
   ]
  },
  {
   "cell_type": "code",
   "execution_count": 174,
   "id": "5361fbcf-5325-4525-b9f3-fedc27af13ba",
   "metadata": {},
   "outputs": [
    {
     "name": "stdout",
     "output_type": "stream",
     "text": [
      "3\n",
      "6\n",
      "9\n",
      "12\n",
      "15\n",
      "18\n",
      "21\n",
      "24\n",
      "27\n",
      "30\n",
      "33\n",
      "36\n",
      "39\n",
      "42\n",
      "45\n",
      "48\n"
     ]
    }
   ],
   "source": [
    "for i in range(1,51):\n",
    "    \n",
    "    if i%3 == 0:\n",
    "        print(i)\n",
    "    \n"
   ]
  },
  {
   "cell_type": "code",
   "execution_count": 178,
   "id": "00d520a1-3106-45d0-96ed-3010e032a128",
   "metadata": {},
   "outputs": [
    {
     "name": "stdout",
     "output_type": "stream",
     "text": [
      "1\n",
      "2\n",
      "4\n",
      "5\n",
      "7\n",
      "8\n",
      "10\n",
      "11\n",
      "13\n",
      "14\n",
      "16\n",
      "17\n",
      "19\n",
      "end\n"
     ]
    }
   ],
   "source": [
    "for i in range(1,20):\n",
    "    \n",
    "    if i%3 == 0:\n",
    "        continue\n",
    "    print(i)\n",
    "print('end')    "
   ]
  },
  {
   "cell_type": "code",
   "execution_count": 180,
   "id": "eff5b83e-b59d-44ce-a161-8a2177cd1013",
   "metadata": {},
   "outputs": [
    {
     "name": "stdout",
     "output_type": "stream",
     "text": [
      "1\n",
      "2\n",
      "end\n"
     ]
    }
   ],
   "source": [
    "for i in range(1,20):\n",
    "    \n",
    "    if i%3 == 0:\n",
    "        break\n",
    "    print(i)\n",
    "print('end')    "
   ]
  },
  {
   "cell_type": "code",
   "execution_count": 182,
   "id": "b401680e-a6ee-4e0f-b0bc-1e06c9b38c17",
   "metadata": {},
   "outputs": [
    {
     "name": "stdout",
     "output_type": "stream",
     "text": [
      "1\n",
      "2\n",
      "3\n",
      "4\n",
      "5\n",
      "6\n",
      "7\n",
      "8\n",
      "9\n",
      "10\n",
      "11\n",
      "12\n",
      "13\n",
      "14\n",
      "15\n",
      "16\n",
      "17\n",
      "18\n",
      "19\n",
      "end\n"
     ]
    }
   ],
   "source": [
    "for i in range(1,20):\n",
    "    \n",
    "    if i%3 == 0:\n",
    "        pass #skiped the condition or block.\n",
    "    print(i)\n",
    "print('end')    "
   ]
  },
  {
   "cell_type": "code",
   "execution_count": 43,
   "id": "8923ae8b-6466-4413-b6b7-a62600785a0f",
   "metadata": {},
   "outputs": [
    {
     "name": "stdout",
     "output_type": "stream",
     "text": [
      "1\n",
      "3\n",
      "5\n",
      "7\n",
      "9\n",
      "11\n",
      "13\n",
      "15\n",
      "17\n",
      "19\n",
      "End\n"
     ]
    }
   ],
   "source": [
    "# i dont want to print the values which are even numbers that means print only odd numbers\n",
    "\n",
    "for i in range (1,21):\n",
    "    if (i%2==0):\n",
    "         continue\n",
    "    else:\n",
    "         print(i)\n",
    "print('End')"
   ]
  },
  {
   "cell_type": "markdown",
   "id": "66385006-aa23-4282-980e-df2553bfac5f",
   "metadata": {},
   "source": [
    "# PRINTING PATTERN IN PYTHON"
   ]
  },
  {
   "cell_type": "code",
   "execution_count": 46,
   "id": "6024780c-10b8-4c9e-b335-121160c514c7",
   "metadata": {},
   "outputs": [
    {
     "name": "stdout",
     "output_type": "stream",
     "text": [
      "####\n",
      "####\n",
      "####\n",
      "####\n"
     ]
    }
   ],
   "source": [
    "print('####')\n",
    "print('####')\n",
    "print('####')\n",
    "print('####')\n"
   ]
  },
  {
   "cell_type": "code",
   "execution_count": 50,
   "id": "9d9aa6c6-5ea8-4a99-b3c9-79b2b9b1f1cb",
   "metadata": {},
   "outputs": [
    {
     "name": "stdout",
     "output_type": "stream",
     "text": [
      "####\n",
      "####\n",
      "####\n",
      "####\n"
     ]
    }
   ],
   "source": [
    "for i in range(1,5):\n",
    "    #i=i+1\n",
    "    print('####')"
   ]
  },
  {
   "cell_type": "markdown",
   "id": "07cd1229-2b8e-4cfd-b4de-4d04f99916e3",
   "metadata": {},
   "source": [
    "What is Iteration?\n",
    "Iteration means repeating a process multiple times. In programming, iteration happens when a loop repeats a block of code until a condition is met.\n",
    "\n"
   ]
  },
  {
   "cell_type": "code",
   "execution_count": 53,
   "id": "02773b0a-9835-4aa8-ae6d-67d709269188",
   "metadata": {},
   "outputs": [
    {
     "name": "stdout",
     "output_type": "stream",
     "text": [
      "####\n",
      "####\n",
      "####\n",
      "####\n"
     ]
    }
   ],
   "source": [
    "for i in range(1,5):\n",
    "    if i<=5:\n",
    "        print('####')"
   ]
  },
  {
   "cell_type": "code",
   "execution_count": 55,
   "id": "0d3d35e1-4cf6-45ee-8b4d-ad7c16256cd3",
   "metadata": {},
   "outputs": [
    {
     "name": "stdout",
     "output_type": "stream",
     "text": [
      "#\n",
      "#\n",
      "#\n",
      "#\n"
     ]
    }
   ],
   "source": [
    "for k in range(4):\n",
    "    print('#')"
   ]
  },
  {
   "cell_type": "code",
   "execution_count": 77,
   "id": "27ab5990-884c-4147-bf52-9f11d82e7fff",
   "metadata": {},
   "outputs": [
    {
     "name": "stdout",
     "output_type": "stream",
     "text": [
      "#  #  #  #  "
     ]
    }
   ],
   "source": [
    "for j in range(4):\n",
    "    print('# ', end = \" \")\n"
   ]
  },
  {
   "cell_type": "code",
   "execution_count": 67,
   "id": "bf80f64f-840b-4916-8442-07fa13d35404",
   "metadata": {},
   "outputs": [
    {
     "name": "stdout",
     "output_type": "stream",
     "text": [
      "# # # # \n",
      "# # # # \n",
      "# # # # \n",
      "# # # # "
     ]
    }
   ],
   "source": [
    "for j in range(4):\n",
    "    print('#', end=\" \")\n",
    "print()\n",
    "\n",
    "for j in range(4):\n",
    "    print('#', end=\" \")\n",
    "\n",
    "print()\n",
    "\n",
    "for j in range(4):\n",
    "    print('#', end=\" \")\n",
    "\n",
    "print()\n",
    "\n",
    "\n",
    "for j in range(4):\n",
    "    print('#', end=\" \")\n"
   ]
  },
  {
   "cell_type": "code",
   "execution_count": 111,
   "id": "bf417425-361a-474e-9075-41be06432a11",
   "metadata": {},
   "outputs": [
    {
     "name": "stdout",
     "output_type": "stream",
     "text": [
      "# # # # \n",
      "# # # # \n",
      "# # # # \n",
      "# # # # \n"
     ]
    }
   ],
   "source": [
    "for i in range(4):\n",
    "    for j in range(4):\n",
    "        print('#', end= \" \")\n",
    "    print()"
   ]
  },
  {
   "cell_type": "code",
   "execution_count": 113,
   "id": "e4692aad-4d89-4fd5-b0fb-e87859a90e40",
   "metadata": {},
   "outputs": [
    {
     "name": "stdout",
     "output_type": "stream",
     "text": [
      "# # # #  # # # #  # # # #  # # # #  "
     ]
    }
   ],
   "source": [
    "for i in range(4):\n",
    "    for j in range(4):\n",
    "        print('#', end= \" \")\n",
    "    print(end=\" \")"
   ]
  },
  {
   "cell_type": "code",
   "execution_count": 117,
   "id": "9b4ca6b9-395b-4cc1-a8aa-e94d5f98e9ed",
   "metadata": {},
   "outputs": [
    {
     "name": "stdout",
     "output_type": "stream",
     "text": [
      "# \n",
      "# # \n",
      "# # # \n",
      "# # # # \n"
     ]
    }
   ],
   "source": [
    "for i in range(1,5):\n",
    "    for j in range(4):\n",
    "        if i>j:\n",
    "            print('#',end=\" \")\n",
    "    print()"
   ]
  },
  {
   "cell_type": "code",
   "execution_count": 119,
   "id": "0ab71eab-b18c-4724-a400-61cdb3825fac",
   "metadata": {},
   "outputs": [
    {
     "data": {
      "text/plain": [
       "[0, 1, 2, 3, 4]"
      ]
     },
     "execution_count": 119,
     "metadata": {},
     "output_type": "execute_result"
    }
   ],
   "source": [
    "list(range(5))"
   ]
  },
  {
   "cell_type": "code",
   "execution_count": 131,
   "id": "8b32774b-b070-4b46-9f39-df56301876ce",
   "metadata": {},
   "outputs": [
    {
     "name": "stdout",
     "output_type": "stream",
     "text": [
      "\n",
      "#  \n",
      "#  #  \n",
      "#  #  #  \n"
     ]
    }
   ],
   "source": [
    "for i in range(4):\n",
    "    for j in range(i):\n",
    "        print('#',end= \"  \")\n",
    "    print()"
   ]
  },
  {
   "cell_type": "code",
   "execution_count": 133,
   "id": "3b124c38-5ff1-4874-a443-5c30d0d645a0",
   "metadata": {},
   "outputs": [
    {
     "name": "stdout",
     "output_type": "stream",
     "text": [
      "#  \n",
      "#  #  \n",
      "#  #  #  \n",
      "#  #  #  #  \n"
     ]
    }
   ],
   "source": [
    "for i in range(4):\n",
    "    for j in range(i+1):\n",
    "        print('#', end=\"  \")\n",
    "    print()"
   ]
  },
  {
   "cell_type": "code",
   "execution_count": 145,
   "id": "319eca1f-154a-4827-8235-ed474eda33eb",
   "metadata": {},
   "outputs": [
    {
     "name": "stdout",
     "output_type": "stream",
     "text": [
      "#  #  #  #  \n",
      "#  #  #  \n",
      "#  #  \n",
      "#  \n"
     ]
    }
   ],
   "source": [
    "for i in range(4):\n",
    "    for j in range(4-i):\n",
    "        print('#', end=\"  \")\n",
    "    print()"
   ]
  },
  {
   "cell_type": "code",
   "execution_count": 147,
   "id": "a63040d1-de2d-49e4-99d8-1bbffff7a081",
   "metadata": {},
   "outputs": [
    {
     "name": "stdout",
     "output_type": "stream",
     "text": [
      "# # # # \n",
      "# # # \n",
      "# # \n",
      "# \n"
     ]
    }
   ],
   "source": [
    "for i in range(1,5):\n",
    "    print(\"# \"*(5-i))"
   ]
  },
  {
   "cell_type": "markdown",
   "id": "2697e245-cb4c-4f1e-b232-6c241e800ac3",
   "metadata": {},
   "source": [
    "# for else\n",
    "\n",
    "For|Else in python\n",
    "In other language for else not supportable but in python it is supportable\n",
    "eg- lets print the number from 1- 20 & we dont want print number which is divisible by 5\n",
    "\n"
   ]
  },
  {
   "cell_type": "code",
   "execution_count": 150,
   "id": "d6b43e84-232a-41d2-8ef0-25866a854f79",
   "metadata": {},
   "outputs": [
    {
     "name": "stdout",
     "output_type": "stream",
     "text": [
      "15\n"
     ]
    }
   ],
   "source": [
    "nums = [12,15,18,21,26]\n",
    "\n",
    "for num in nums:\n",
    "    if num % 5 == 0:\n",
    "        print(num)  "
   ]
  },
  {
   "cell_type": "code",
   "execution_count": 154,
   "id": "61d8fcd8-6f57-4371-a5c3-7a74ae5381f6",
   "metadata": {},
   "outputs": [
    {
     "name": "stdout",
     "output_type": "stream",
     "text": [
      "25  30  35  "
     ]
    }
   ],
   "source": [
    "nums = [12,14,18,21,25,30,35]\n",
    "\n",
    "for num in nums:\n",
    "    if num % 5 == 0:\n",
    "        print(num, end=\"  \")  "
   ]
  },
  {
   "cell_type": "code",
   "execution_count": 160,
   "id": "965529e4-5223-4c2a-8e71-bad1de170215",
   "metadata": {},
   "outputs": [
    {
     "name": "stdout",
     "output_type": "stream",
     "text": [
      "10\n"
     ]
    }
   ],
   "source": [
    "nums = [10,14,18,21,5,10]\n",
    "\n",
    "for num in nums:\n",
    "    if num % 5 == 0:\n",
    "        print(num)  \n",
    "        break #it will print only 1 number then it break        "
   ]
  },
  {
   "cell_type": "code",
   "execution_count": 162,
   "id": "f48511d4-ac74-4d97-a6b5-e3de137152aa",
   "metadata": {},
   "outputs": [],
   "source": [
    "nums = [7,14,18,21,23,27] #hear there is no number which is divisible by 5 we got output as blank\n",
    "\n",
    "for num in nums:\n",
    "    if num % 5 == 0:\n",
    "        print(num)  \n",
    "        break"
   ]
  },
  {
   "cell_type": "code",
   "execution_count": 170,
   "id": "4c229617-7d93-4e77-bfc2-a4e14223de42",
   "metadata": {},
   "outputs": [
    {
     "name": "stdout",
     "output_type": "stream",
     "text": [
      "Number Not Found\n",
      "Number Not Found\n",
      "Number Not Found\n",
      "Number Not Found\n",
      "Number Not Found\n",
      "Number Not Found\n"
     ]
    }
   ],
   "source": [
    "nums = [7,14,18,21,23,2] \n",
    "for num in nums:\n",
    "    if num % 5 == 0:\n",
    "        print(num)  \n",
    "        break\n",
    "    else:\n",
    "        print('Number Not Found') #every iteration it cheking condition        "
   ]
  },
  {
   "cell_type": "code",
   "execution_count": null,
   "id": "dd4bec61-1759-45d9-bd42-4ffaec59868d",
   "metadata": {},
   "outputs": [],
   "source": [
    "nums = [7,14] #hear there is no number which is divisible by 5 we got output as blank\n",
    "for num in nums:\n",
    "    if num % 5 == 0:\n",
    "        print(num)  \n",
    "        break\n",
    "    else:\n",
    "        print('Number Not Found') #every iteration it cheking condition        "
   ]
  },
  {
   "cell_type": "code",
   "execution_count": 199,
   "id": "5bb609ac-8240-496e-b155-c70873372bdd",
   "metadata": {},
   "outputs": [
    {
     "name": "stdout",
     "output_type": "stream",
     "text": [
      "Number Not Found\n"
     ]
    }
   ],
   "source": [
    "nums = [7,14,18,21,23,27] #hear there is no number which is divisible by 5 we got output as blank\n",
    "\n",
    "for num in nums:\n",
    "    if num % 5 == 0:\n",
    "        print(num)  \n",
    "        break\n",
    "else:\n",
    "        print('Number Not Found') # hear else we dont write in if block but we can write in for block only"
   ]
  },
  {
   "cell_type": "code",
   "execution_count": 192,
   "id": "626ea2d5-0b9f-4d9d-96cf-8715f4b9c41f",
   "metadata": {},
   "outputs": [
    {
     "name": "stdout",
     "output_type": "stream",
     "text": [
      "10\n"
     ]
    }
   ],
   "source": [
    "nums = [10,14,18,21,20,27] \n",
    "\n",
    "for num in nums:\n",
    "    if num % 5 == 0:\n",
    "        print(num)  \n",
    "        break\n",
    "else:\n",
    "        print('Not Found')"
   ]
  },
  {
   "cell_type": "code",
   "execution_count": 190,
   "id": "93ba1c59-1f58-4e92-a007-c6a5251578ca",
   "metadata": {},
   "outputs": [
    {
     "name": "stdout",
     "output_type": "stream",
     "text": [
      "10\n",
      "20\n",
      "30\n",
      "Not Found\n"
     ]
    }
   ],
   "source": [
    "nums = [10,14,18,21,20,27,30] \n",
    "\n",
    "for num in nums:\n",
    "    if num % 5 == 0:\n",
    "           print(num)  \n",
    "           #break\n",
    "else:\n",
    "        print('Not Found')"
   ]
  },
  {
   "cell_type": "markdown",
   "id": "9239d2af-3e0c-4c1b-a637-ccf564951911",
   "metadata": {},
   "source": [
    "# .prime number - how to check given number is prime number or not"
   ]
  },
  {
   "cell_type": "code",
   "execution_count": 201,
   "id": "b3ecb673-3615-4bb3-9e3e-41b84e3237d7",
   "metadata": {},
   "outputs": [
    {
     "name": "stdout",
     "output_type": "stream",
     "text": [
      "Not prime Number\n"
     ]
    }
   ],
   "source": [
    "num = 14\n",
    "\n",
    "for i in range(2,num):\n",
    "    if num % i == 0:\n",
    "        print('Not prime Number')\n",
    "        break\n",
    "else:\n",
    "    print('Prime Number')"
   ]
  },
  {
   "cell_type": "code",
   "execution_count": 213,
   "id": "fcd860f4-61cf-462d-86da-a3d077f581a3",
   "metadata": {},
   "outputs": [
    {
     "name": "stdout",
     "output_type": "stream",
     "text": [
      "Prime Number\n"
     ]
    }
   ],
   "source": [
    "num = 13\n",
    "\n",
    "for i in range(3,num):\n",
    "    if num % i == 0:\n",
    "        print('Not prime Number')\n",
    "        break\n",
    "else:\n",
    "    print('Prime Number')"
   ]
  },
  {
   "cell_type": "code",
   "execution_count": 255,
   "id": "826c60f0-835f-4af8-833f-2dfc03056fa5",
   "metadata": {},
   "outputs": [
    {
     "name": "stdout",
     "output_type": "stream",
     "text": [
      "Prime Number\n"
     ]
    }
   ],
   "source": [
    "num = 13\n",
    "\n",
    "#for i in range(2,num):\n",
    "if num % i == 0:\n",
    "    print('Not prime Number')\n",
    "    #break\n",
    "else:\n",
    "    print('Prime Number')"
   ]
  },
  {
   "cell_type": "code",
   "execution_count": 267,
   "id": "e176bb0a-b4d7-4877-bcb5-462fd020a5a9",
   "metadata": {},
   "outputs": [
    {
     "name": "stdout",
     "output_type": "stream",
     "text": [
      "Not prime Number\n"
     ]
    }
   ],
   "source": [
    "num = 4\n",
    "\n",
    "for i in range(2,num):\n",
    "    if num % i == 0:\n",
    "        print('Not prime Number')\n",
    "        break\n",
    "else:\n",
    "    print('Prime Number')"
   ]
  },
  {
   "cell_type": "markdown",
   "id": "e2e5a243-b056-434e-aade-0d20c206aeea",
   "metadata": {},
   "source": [
    "# Array in Python"
   ]
  },
  {
   "cell_type": "code",
   "execution_count": 282,
   "id": "6d4b08d3-05e2-4838-bb1f-d5f28c872ca7",
   "metadata": {},
   "outputs": [
    {
     "name": "stdin",
     "output_type": "stream",
     "text": [
      "Enter the next value 2\n",
      "Enter the next value 3\n",
      "Enter the next value 4\n",
      "Enter the next value 5\n",
      "Enter the next value 6\n"
     ]
    },
    {
     "name": "stdout",
     "output_type": "stream",
     "text": [
      "array('i', [2, 3, 4, 5, 6])\n"
     ]
    }
   ],
   "source": [
    "from array import * \n",
    "arr = array('i',[])\n",
    "\n",
    "#n = int(input('Enter the length of the array'))\n",
    "\n",
    "for i in range(5):\n",
    "    x = int(input('Enter the next value'))\n",
    "    arr.append(x)\n",
    "print(arr)"
   ]
  },
  {
   "cell_type": "code",
   "execution_count": 294,
   "id": "6ab6a69e-dbd7-47b4-ab85-cb24faf05ef4",
   "metadata": {},
   "outputs": [
    {
     "name": "stdin",
     "output_type": "stream",
     "text": [
      "Enter the length of the array 4\n"
     ]
    },
    {
     "name": "stdout",
     "output_type": "stream",
     "text": [
      "array('i', [0, 1, 2, 3])\n"
     ]
    }
   ],
   "source": [
    "from array import * \n",
    "arr = array('i',[])\n",
    "\n",
    "n = int(input('Enter the length of the array'))\n",
    "\n",
    "for i in range(n):\n",
    "    #x = int(input('Enter the next value'))\n",
    "    arr.append(i)\n",
    "print(arr)"
   ]
  },
  {
   "cell_type": "code",
   "execution_count": 305,
   "id": "7813bf95-5f7b-4caf-9740-33d712f245e7",
   "metadata": {},
   "outputs": [
    {
     "name": "stdin",
     "output_type": "stream",
     "text": [
      "Enter the lenghth of array: 4\n",
      "Enter the next value: 2\n",
      "Enter the next value: 3\n",
      "Enter the next value: 4\n",
      "Enter the next value: 5\n"
     ]
    },
    {
     "name": "stdout",
     "output_type": "stream",
     "text": [
      "array('i', [2, 3, 4, 5])\n"
     ]
    },
    {
     "data": {
      "text/plain": [
       "array.array"
      ]
     },
     "execution_count": 305,
     "metadata": {},
     "output_type": "execute_result"
    }
   ],
   "source": [
    "from  array import *\n",
    "arr = array('i',[])\n",
    "\n",
    "n = int(input(\"Enter the lenghth of array:\"))\n",
    "\n",
    "for i in range(n):\n",
    "    x=int(input(\"Enter the next value:\"))\n",
    "    arr.append(x)\n",
    "print(arr)\n",
    "type(arr)"
   ]
  },
  {
   "cell_type": "markdown",
   "id": "07a864f2-5a4c-4603-9096-e15dd90e9a9b",
   "metadata": {},
   "source": [
    "# Way of creating array using numpy"
   ]
  },
  {
   "cell_type": "code",
   "execution_count": 311,
   "id": "7e4dcbda-2408-4df2-9a18-83acc4d208e9",
   "metadata": {},
   "outputs": [
    {
     "name": "stdout",
     "output_type": "stream",
     "text": [
      "[1 2 3 4 5]\n"
     ]
    },
    {
     "data": {
      "text/plain": [
       "numpy.ndarray"
      ]
     },
     "execution_count": 311,
     "metadata": {},
     "output_type": "execute_result"
    }
   ],
   "source": [
    "from numpy import *\n",
    "\n",
    "arr1 = array([1,2,3,4,5])\n",
    "print(arr1)\n",
    "type(arr1)"
   ]
  },
  {
   "cell_type": "code",
   "execution_count": 313,
   "id": "92a6f47d-ee5f-47d3-84e9-e04b63110f5f",
   "metadata": {},
   "outputs": [
    {
     "name": "stdout",
     "output_type": "stream",
     "text": [
      "int32\n"
     ]
    }
   ],
   "source": [
    "print(arr1.dtype)"
   ]
  },
  {
   "cell_type": "code",
   "execution_count": 317,
   "id": "adb13c08-7131-4490-aa23-88fcd93ca92a",
   "metadata": {},
   "outputs": [
    {
     "data": {
      "text/plain": [
       "array([1., 2., 3., 4., 6., 9.])"
      ]
     },
     "execution_count": 317,
     "metadata": {},
     "output_type": "execute_result"
    }
   ],
   "source": [
    "arr2 = array([1,2,3,4,6,9],float)\n",
    "arr2"
   ]
  },
  {
   "cell_type": "code",
   "execution_count": 325,
   "id": "4f052b57-474a-422b-a209-3996f27cc69a",
   "metadata": {},
   "outputs": [
    {
     "data": {
      "text/plain": [
       "array([ True,  True,  True,  True,  True,  True])"
      ]
     },
     "execution_count": 325,
     "metadata": {},
     "output_type": "execute_result"
    }
   ],
   "source": [
    "arr3 = array([1,2,3,4,5,6],bool)\n",
    "arr3"
   ]
  },
  {
   "cell_type": "code",
   "execution_count": 327,
   "id": "3e417b7b-883d-4011-9e90-c5ea569c0922",
   "metadata": {},
   "outputs": [],
   "source": [
    "import numpy as np"
   ]
  },
  {
   "cell_type": "code",
   "execution_count": 329,
   "id": "cccd384c-3e28-40fb-949c-52e9a951940f",
   "metadata": {},
   "outputs": [
    {
     "data": {
      "text/plain": [
       "array([ 0.        ,  1.77777778,  3.55555556,  5.33333333,  7.11111111,\n",
       "        8.88888889, 10.66666667, 12.44444444, 14.22222222, 16.        ])"
      ]
     },
     "execution_count": 329,
     "metadata": {},
     "output_type": "execute_result"
    }
   ],
   "source": [
    "arr4 = np.linspace(0,16,10) # break the code between 10 spaces between 0 to 16 but why decimal\n",
    "                             #because we break into parts thats why it is floats.\n",
    "arr4"
   ]
  },
  {
   "cell_type": "code",
   "execution_count": 331,
   "id": "5e76e326-033b-41cc-91fa-f597ceb054a0",
   "metadata": {},
   "outputs": [
    {
     "data": {
      "text/plain": [
       "array([0, 2, 4, 6, 8])"
      ]
     },
     "execution_count": 331,
     "metadata": {},
     "output_type": "execute_result"
    }
   ],
   "source": [
    "arr5 = np.arange(0,10,2) # arange - as range\n",
    "arr5"
   ]
  },
  {
   "cell_type": "code",
   "execution_count": 335,
   "id": "1aa72ea9-b69a-4bff-a451-dd2241233547",
   "metadata": {},
   "outputs": [
    {
     "data": {
      "text/plain": [
       "array([0., 0., 0., 0., 0.])"
      ]
     },
     "execution_count": 335,
     "metadata": {},
     "output_type": "execute_result"
    }
   ],
   "source": [
    "arr6 = np.zeros(5)\n",
    "arr6"
   ]
  },
  {
   "cell_type": "code",
   "execution_count": 337,
   "id": "919881e9-3e38-48f4-92c1-e2a04146f607",
   "metadata": {},
   "outputs": [
    {
     "data": {
      "text/plain": [
       "array([1., 1., 1., 1., 1.])"
      ]
     },
     "execution_count": 337,
     "metadata": {},
     "output_type": "execute_result"
    }
   ],
   "source": [
    "arr7 = np.ones(5)\n",
    "arr7"
   ]
  },
  {
   "cell_type": "code",
   "execution_count": null,
   "id": "5e5d33a0-4175-4860-b64b-d2d9c3794239",
   "metadata": {},
   "outputs": [],
   "source": []
  }
 ],
 "metadata": {
  "kernelspec": {
   "display_name": "Python [conda env:base] *",
   "language": "python",
   "name": "conda-base-py"
  },
  "language_info": {
   "codemirror_mode": {
    "name": "ipython",
    "version": 3
   },
   "file_extension": ".py",
   "mimetype": "text/x-python",
   "name": "python",
   "nbconvert_exporter": "python",
   "pygments_lexer": "ipython3",
   "version": "3.12.7"
  }
 },
 "nbformat": 4,
 "nbformat_minor": 5
}
